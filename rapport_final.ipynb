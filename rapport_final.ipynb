{
 "cells": [
  {
   "cell_type": "markdown",
   "metadata": {},
   "source": [
    "# My Lib"
   ]
  },
  {
   "cell_type": "markdown",
   "metadata": {},
   "source": [
    "Projet de groupe avec:\n",
    "- Jean-François Lefebvre\n",
    "- Natacha Meyer\n",
    "- Nadia Desjardins\n",
    "\n",
    "Pour le cours de programmation 1"
   ]
  },
  {
   "cell_type": "markdown",
   "metadata": {},
   "source": [
    "# Installation du project et de la libraireie Raylib"
   ]
  },
  {
   "cell_type": "markdown",
   "metadata": {},
   "source": [
    "Assurez-vous d’abord que le dernier pip est installé :\n",
    "```\n",
    "python -m pip install --upgrade pip\n",
    "```\n",
    "\n",
    "Ensuite installez Raylib:\n",
    "```\n",
    "python -m pip install setuptools\n",
    "python -m pip install raylib==5.5.0.0\n",
    "```\n",
    "\n",
    "Lancez le programme a partir de main.py:\n",
    "```\n",
    "python srcs/main.py\n",
    "```\n",
    "ou a partir du Makefile en lancant la commande make dans le terminal:\n",
    "```\n",
    "make\n",
    "```\n",
    "\n",
    "[Raylib documentation](https://www.raylib.com/cheatsheet/cheatsheet.html)\n",
    "\n",
    "[Raylib Python Documentation](https://electronstudio.github.io/raylib-python-cffi/)"
   ]
  },
  {
   "cell_type": "code",
   "execution_count": null,
   "metadata": {},
   "outputs": [],
   "source": []
  }
 ],
 "metadata": {
  "kernelspec": {
   "display_name": "Python 3",
   "language": "python",
   "name": "python3"
  },
  "language_info": {
   "codemirror_mode": {
    "name": "ipython",
    "version": 3
   },
   "file_extension": ".py",
   "mimetype": "text/x-python",
   "name": "python",
   "nbconvert_exporter": "python",
   "pygments_lexer": "ipython3",
   "version": "3.13.1"
  }
 },
 "nbformat": 4,
 "nbformat_minor": 2
}
