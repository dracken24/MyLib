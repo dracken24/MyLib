{
 "cells": [
  {
   "cell_type": "markdown",
   "metadata": {},
   "source": [
    "# My Lib\n",
    "\n",
    "∗ Nom du projet.\n",
    "∗ Description du projet.\n",
    "∗ Votre nom et pr ́enom.\n",
    "∗ Votre groupe."
   ]
  },
  {
   "cell_type": "markdown",
   "metadata": {},
   "source": [
    "# README\n",
    "\n",
    "# Installer Raylib dans l'environement Jupyter !\n",
    "\n",
    "1. Vérifier ou se situe votre environnement Python:\n",
    "\n",
    "# Dans une cellule Jupyter, exécutez :\n",
    "```\n",
    "import sys\n",
    "print(sys.executable)\n",
    "```\n",
    "Notez le chemin retourné, il sera nécessaire pour l'étape suivante.\n",
    "\n",
    "2. Installer Raylib:\n",
    "Dans PowerShell ou le terminal, utilisez le chemin Python obtenu précédemment:\n",
    "# Remplacez [chemin_python] par votre chemin\n",
    "```\n",
    "[chemin_python] -m pip install raylib\n",
    "```\n",
    "\n",
    "Par exemple :\n",
    "```\n",
    "c:\\Users\\[utilisateur]\\AppData\\Local\\Programs\\Python\\Python313\\python.exe -m pip install raylib\n",
    "```\n",
    "\n",
    "[Raylib documentation](https://www.raylib.com/cheatsheet/cheatsheet.html)\n",
    "[Raylib Python Documentation](https://electronstudio.github.io/raylib-python-cffi/)"
   ]
  },
  {
   "cell_type": "code",
   "execution_count": 113,
   "metadata": {},
   "outputs": [
    {
     "name": "stdout",
     "output_type": "stream",
     "text": [
      "c:\\Users\\drack\\AppData\\Local\\Programs\\Python\\Python313\\python.exe\n"
     ]
    }
   ],
   "source": [
    "# Vérifier ou se situe votre environnement Python:\n",
    "import sys\n",
    "print(sys.executable)"
   ]
  },
  {
   "cell_type": "markdown",
   "metadata": {},
   "source": [
    "# Prpgramme Principale"
   ]
  },
  {
   "cell_type": "markdown",
   "metadata": {},
   "source": [
    "Imports"
   ]
  },
  {
   "cell_type": "code",
   "execution_count": 114,
   "metadata": {},
   "outputs": [],
   "source": [
    "from pyray import * # Import for Raylib"
   ]
  },
  {
   "cell_type": "markdown",
   "metadata": {},
   "source": [
    "Variables"
   ]
  },
  {
   "cell_type": "code",
   "execution_count": 115,
   "metadata": {},
   "outputs": [],
   "source": [
    "WINDOW_WIDTH: int = 700\n",
    "WINDOW_HEIGHT: int = 600\n",
    "WINDOW_TITLE: str = \"MyLib\"\n",
    "\n",
    "# RL = raylib\n",
    "FONT_COLOR = DARKGRAY\n",
    "BUTTON_HEIGHT = int(30 + 5)\n",
    "\n",
    "# Putt all buttons in a dictionary\n",
    "dict_button = {\n",
    "\t\"add_book\": {  # Name for the button in dico (Key)\n",
    "\t\t\"text\": \"Ajouter ou supprimer un livre dans la bibliotheque\",\t# Text visible on button\n",
    "\t\t\"x\": 10,                            # position x\n",
    "\t\t\"y\": BUTTON_HEIGHT + 10,            # position y\n",
    "\t\t\"width\": int(WINDOW_WIDTH - 20),    # Button width\n",
    "\t\t\"height\": int(BUTTON_HEIGHT - 5),   # Button height\n",
    "\t\t\"measure_text\": 0,                  # For center text in button\n",
    "\t\t\"base_color\": BLUE,                 # Base button color\n",
    "\t\t\"hover_color\": DARKBLUE,            # mouse hover button color\n",
    "\t\t\"clicked_color\": DARKGREEN,         # Clicked button color\n",
    "\t\t\"text_color\": WHITE,                # Color for text\n",
    "\t\t\"is_clicked\": False,                # For launch action once until mouse button release\n",
    "\t\t\"action\": 1                         # For launch good action in draw_button()\n",
    "\t},\n",
    "\t\"add_user\": {\n",
    "\t\t\"text\": \"Ajouter ou supprimer un utilisateur\",\n",
    "\t\t\"x\": 10,\n",
    "\t\t\"y\": int(BUTTON_HEIGHT * 2) + 10,\n",
    "\t\t\"width\": int(WINDOW_WIDTH - 20),\n",
    "\t\t\"height\": int(BUTTON_HEIGHT - 5),\n",
    "\t\t\"measure_text\": 0,\n",
    "\t\t\"base_color\": BLUE,\n",
    "\t\t\"hover_color\": DARKBLUE,\n",
    "\t\t\"clicked_color\": DARKGREEN,\n",
    "\t\t\"text_color\": WHITE,\n",
    "\t\t\"is_clicked\": False,\n",
    "\t\t\"action\": 2\n",
    "\t},\n",
    "\t\"emprunt\": {\n",
    "\t\t\"text\": \"Enregistrer un emprunt ou un retour\",\n",
    "\t\t\"x\": 10,\n",
    "\t\t\"y\": int(BUTTON_HEIGHT * 3) + 10,\n",
    "\t\t\"width\": int(WINDOW_WIDTH - 20),\n",
    "\t\t\"height\": int(BUTTON_HEIGHT - 5),\n",
    "\t\t\"measure_text\": 0,\n",
    "\t\t\"base_color\": BLUE,\n",
    "\t\t\"hover_color\": DARKBLUE,\n",
    "\t\t\"clicked_color\": DARKGREEN,\n",
    "\t\t\"text_color\": WHITE,\n",
    "\t\t\"is_clicked\": False,\n",
    "\t\t\"action\": 3\n",
    "\t},\n",
    "\t\"lister\": {\n",
    "\t\t\"text\": \"Lister les livres les plus empruntes\",\n",
    "\t\t\"x\": 10,\n",
    "\t\t\"y\": int(BUTTON_HEIGHT * 4) + 10,\n",
    "\t\t\"width\": int(WINDOW_WIDTH - 20),\n",
    "\t\t\"height\": int(BUTTON_HEIGHT - 5),\n",
    "\t\t\"measure_text\": 0,\n",
    "\t\t\"base_color\": BLUE,\n",
    "\t\t\"hover_color\": DARKBLUE,\n",
    "\t\t\"clicked_color\": DARKGREEN,\n",
    "\t\t\"text_color\": WHITE,\n",
    "\t\t\"is_clicked\": False,\n",
    "\t\t\"action\": 4\n",
    "\t},\n",
    "\t\"calculer\": {\n",
    "\t\t\"text\": \"Calculer la duree moyenne des emprunts par genre\",\n",
    "\t\t\"x\": 10,\n",
    "\t\t\"y\": int(BUTTON_HEIGHT * 5) + 10,\n",
    "\t\t\"width\": int(WINDOW_WIDTH - 20),\n",
    "\t\t\"height\": int(BUTTON_HEIGHT - 5),\n",
    "\t\t\"measure_text\": 0,\n",
    "\t\t\"base_color\": BLUE,\n",
    "\t\t\"hover_color\": DARKBLUE,\n",
    "\t\t\"clicked_color\": DARKGREEN,\n",
    "\t\t\"text_color\": WHITE,\n",
    "\t\t\"is_clicked\": False,\n",
    "\t\t\"action\": 5\n",
    "\t},\n",
    "\t\"identifier\": {\n",
    "\t\t\"text\": \"Identifier les utilisateurs les plus actifs\",\n",
    "\t\t\"x\": 10,\n",
    "\t\t\"y\": int(BUTTON_HEIGHT * 6) + 10,\n",
    "\t\t\"width\": int(WINDOW_WIDTH - 20),\n",
    "\t\t\"height\": int(BUTTON_HEIGHT - 5),\n",
    "\t\t\"measure_text\": 0,\n",
    "\t\t\"base_color\": BLUE,\n",
    "\t\t\"hover_color\": DARKBLUE,\n",
    "\t\t\"clicked_color\": DARKGREEN,\n",
    "\t\t\"text_color\": WHITE,\n",
    "\t\t\"is_clicked\": False,\n",
    "\t\t\"action\": 6\n",
    "\t},\n",
    "\t\"status\": {\n",
    "\t\t\"text\": \"Afficher le statut de la bibliotheque sous forme de statistiques\",\n",
    "\t\t\"x\": 10,\n",
    "\t\t\"y\": int(BUTTON_HEIGHT * 7) + 10,\n",
    "\t\t\"width\": int(WINDOW_WIDTH - 20),\n",
    "\t\t\"height\": int(BUTTON_HEIGHT - 5),\n",
    "\t\t\"measure_text\": 0,\n",
    "\t\t\"base_color\": BLUE,\n",
    "\t\t\"hover_color\": DARKBLUE,\n",
    "\t\t\"clicked_color\": DARKGREEN,\n",
    "\t\t\"text_color\": WHITE,\n",
    "\t\t\"is_clicked\": False,\n",
    "\t\t\"action\": 7\n",
    "\t},\n",
    "\t\"diagramme\": {\n",
    "\t\t\"text\": \"Visualisation: Diagramme circulaire des emprunts par genre\",\n",
    "\t\t\"x\": 10,\n",
    "\t\t\"y\": int(BUTTON_HEIGHT * 8) + 10,\n",
    "\t\t\"width\": int(WINDOW_WIDTH - 20),\n",
    "\t\t\"height\": int(BUTTON_HEIGHT - 5),\n",
    "\t\t\"measure_text\": 0,\n",
    "\t\t\"base_color\": BLUE,\n",
    "\t\t\"hover_color\": DARKBLUE,\n",
    "\t\t\"clicked_color\": DARKGREEN,\n",
    "\t\t\"text_color\": WHITE,\n",
    "\t\t\"is_clicked\": False,\n",
    "\t\t\"action\": 8\n",
    "\t},\n",
    "\t\"evolution\": {\n",
    "\t\t\"text\": \"Visualisation: Evolution mensuelle des emprunt\",\n",
    "\t\t\"x\": 10,\n",
    "\t\t\"y\": int(BUTTON_HEIGHT * 9) + 10,\n",
    "\t\t\"width\": int(WINDOW_WIDTH - 20),\n",
    "\t\t\"height\": int(BUTTON_HEIGHT - 5),\n",
    "\t\t\"measure_text\": 0,\n",
    "\t\t\"base_color\": BLUE,\n",
    "\t\t\"hover_color\": DARKBLUE,\n",
    "\t\t\"clicked_color\": DARKGREEN,\n",
    "\t\t\"text_color\": WHITE,\n",
    "\t\t\"is_clicked\": False,\n",
    "\t\t\"action\": 9\n",
    "\t},\n",
    "\t\"quitter\": {\n",
    "\t\t\"text\": \"Quitter\",\n",
    "\t\t\"x\": 10,\n",
    "\t\t\"y\": int(BUTTON_HEIGHT * 10) + 20,\n",
    "\t\t\"width\": int(WINDOW_WIDTH - 20),\n",
    "\t\t\"height\": int(BUTTON_HEIGHT - 5),\n",
    "\t\t\"measure_text\": 0,\n",
    "\t\t\"base_color\": ORANGE,\n",
    "\t\t\"hover_color\": MAROON,\n",
    "\t\t\"clicked_color\": RED,\n",
    "\t\t\"text_color\": WHITE,\n",
    "\t\t\"is_clicked\": False,\n",
    "\t\t\"action\": 10\n",
    "\t}\n",
    "}"
   ]
  },
  {
   "cell_type": "markdown",
   "metadata": {},
   "source": [
    "Functions"
   ]
  },
  {
   "cell_type": "code",
   "execution_count": 116,
   "metadata": {},
   "outputs": [],
   "source": [
    "# init principal variables for the program\n",
    "def init():\n",
    "    # Window init\n",
    "    init_window(WINDOW_WIDTH, WINDOW_HEIGHT, WINDOW_TITLE.encode('utf-8'))\n",
    "    set_target_fps(60);  # FPS to 60\n",
    "\n",
    "    # Init each text wide in pixel for center text in button\n",
    "    for button in dict_button:\n",
    "        dict_button[button][\"measure_text\"] = int(measure_text(dict_button[button][\"text\"].encode('utf-8'), 20) / 2)\n"
   ]
  },
  {
   "cell_type": "markdown",
   "metadata": {},
   "source": [
    "Function for all Buttons"
   ]
  },
  {
   "cell_type": "code",
   "execution_count": 117,
   "metadata": {},
   "outputs": [],
   "source": [
    "# Add or remove a book from the library\n",
    "def add_remove_books(button: str):\n",
    "    print(f\"{button} button Hit Action 1\")"
   ]
  },
  {
   "cell_type": "code",
   "execution_count": 118,
   "metadata": {},
   "outputs": [],
   "source": [
    "# Add or delete a user\n",
    "def add_remove_users(button: str):\n",
    "    print(f\"{button} button Hit Action 2\")"
   ]
  },
  {
   "cell_type": "code",
   "execution_count": 119,
   "metadata": {},
   "outputs": [],
   "source": [
    "# Record a loan or return\n",
    "def emprunt_retour_books(button: str):\n",
    "    print(f\"{button} button Hit Action 3\")"
   ]
  },
  {
   "cell_type": "code",
   "execution_count": 120,
   "metadata": {},
   "outputs": [],
   "source": [
    "# List the most borrowed books\n",
    "def list_books(button: str):\n",
    "    print(f\"{button} button Hit Action 4\")"
   ]
  },
  {
   "cell_type": "code",
   "execution_count": 121,
   "metadata": {},
   "outputs": [],
   "source": [
    "# Calculate the average duration of loans by type\n",
    "def calcul_emprunt_books(button: str):\n",
    "    print(f\"{button} button Hit Action 5\")"
   ]
  },
  {
   "cell_type": "code",
   "execution_count": 122,
   "metadata": {},
   "outputs": [],
   "source": [
    "# Identify the most active users\n",
    "def ident_actif_users(button: str):\n",
    "    print(f\"{button} button Hit Action 6\")"
   ]
  },
  {
   "cell_type": "code",
   "execution_count": 123,
   "metadata": {},
   "outputs": [],
   "source": [
    "# Show library status as statistics\n",
    "def status(button: str):\n",
    "    print(f\"{button} button Hit Action 7\")"
   ]
  },
  {
   "cell_type": "code",
   "execution_count": 124,
   "metadata": {},
   "outputs": [],
   "source": [
    "# Visualization: Pie chart of borrowings by genre\n",
    "def diagram(button: str):\n",
    "    print(f\"{button} button Hit Action 8\")"
   ]
  },
  {
   "cell_type": "code",
   "execution_count": 125,
   "metadata": {},
   "outputs": [],
   "source": [
    "# Visualization: Monthly evolution of borrowing\n",
    "def monthly_evolution(button: str):\n",
    "    print(f\"{button} button Hit Action 9\")"
   ]
  },
  {
   "cell_type": "markdown",
   "metadata": {},
   "source": [
    "Buttons Functions"
   ]
  },
  {
   "cell_type": "code",
   "execution_count": 126,
   "metadata": {},
   "outputs": [],
   "source": [
    "def draw_clicked_button(button: str):\n",
    "    draw_rectangle(dict_button[button][\"x\"], dict_button[button][\"y\"], dict_button[button][\"width\"], dict_button[button][\"height\"], dict_button[button][\"clicked_color\"])                     # Draw Button\n",
    "    draw_text(dict_button[button][\"text\"].encode('utf-8'), int(dict_button[button][\"x\"] + dict_button[button][\"width\"] / 2 - dict_button[button][\"measure_text\"]),    # Draw Text\n",
    "                int(dict_button[button][\"y\"] + dict_button[button][\"height\"] / 2 - 10), 20, dict_button[button][\"text_color\"])\n",
    "\n",
    "# Draw a button with a text and return if the mouse is over the button (Return True for close program)\n",
    "def draw_button(button: str) -> tuple:\n",
    "    # if mouser is over the button, Check collision with mouse and button\n",
    "    if (check_collision_point_rec(get_mouse_position(), (dict_button[button][\"x\"], dict_button[button][\"y\"],\n",
    "                                dict_button[button][\"width\"], dict_button[button][\"height\"]))):\n",
    "        # If the mouse is over the button, check if the left mouse button is pressed and choose the good action\n",
    "        if (is_mouse_button_pressed(MOUSE_BUTTON_LEFT)):\n",
    "            dict_button[button][\"is_clicked\"] = True  # Set True for the button clicked\n",
    "\n",
    "            # ***************************************Actions for Buttons*****************************************\n",
    "            if dict_button[button][\"action\"] == 1:\n",
    "                add_remove_books(button)            # Action for the button add_remove_books clicked\n",
    "                draw_clicked_button(button)\n",
    "                return False, dict_button[button][\"text\"], True\n",
    "            elif dict_button[button][\"action\"] == 2:\n",
    "                add_remove_users(button)            # Action for the button add_remove_users clicked\n",
    "                draw_clicked_button(button)\n",
    "                return False, dict_button[button][\"text\"], True\n",
    "            elif dict_button[button][\"action\"] == 3:\n",
    "                emprunt_retour_books(button)        # Action for the button emprunt_retour_books clicked\n",
    "                draw_clicked_button(button)\n",
    "                return False, dict_button[button][\"text\"], True\n",
    "            elif dict_button[button][\"action\"] == 4:\n",
    "                list_books(button)                  # Action for the button list_books clicked\n",
    "                draw_clicked_button(button)\n",
    "                return False, dict_button[button][\"text\"], True\n",
    "            elif dict_button[button][\"action\"] == 5:\n",
    "                calcul_emprunt_books(button)        # Action for the button calcul_emprunt_books clicked\n",
    "                draw_clicked_button(button)\n",
    "                return False, dict_button[button][\"text\"], True\n",
    "            elif dict_button[button][\"action\"] == 6:\n",
    "                ident_actif_users(button)           # Action for the button ident_actif_users clicked\n",
    "                draw_clicked_button(button)\n",
    "                return False, dict_button[button][\"text\"], True\n",
    "            elif dict_button[button][\"action\"] == 7:\n",
    "                status(button)                      # Action for the button status clicked\n",
    "                draw_clicked_button(button)\n",
    "                return False, dict_button[button][\"text\"], True\n",
    "            elif dict_button[button][\"action\"] == 8:\n",
    "                diagram(button)                     # Action for the button diagram clicked\n",
    "                draw_clicked_button(button)\n",
    "                return False, dict_button[button][\"text\"], True\n",
    "            elif dict_button[button][\"action\"] == 9:\n",
    "                monthly_evolution(button)           # Action for the button monthly_evolution clicked\n",
    "                draw_clicked_button(button)\n",
    "                return False, dict_button[button][\"text\"], True\n",
    "            elif dict_button[button][\"action\"] == 10:\n",
    "                print(f\"{button} button Hit Action 10\") # EXIT\n",
    "                return True, dict_button[button][\"text\"], True\n",
    "            # *************************************************************************************************** \n",
    "\n",
    "        # If Mouse is over button but not clicked, Use this color of button (dict_button[button][\"hover_color\"])\n",
    "        elif dict_button[button][\"is_clicked\"] == False:\n",
    "            draw_rectangle(dict_button[button][\"x\"], dict_button[button][\"y\"], dict_button[button][\"width\"], dict_button[button][\"height\"], dict_button[button][\"hover_color\"])                      # Draw Button\n",
    "            draw_text(dict_button[button][\"text\"].encode('utf-8'), int(dict_button[button][\"x\"] + dict_button[button][\"width\"] / 2 - dict_button[button][\"measure_text\"]),    # Draw Text\n",
    "                        int(dict_button[button][\"y\"] + dict_button[button][\"height\"] / 2 - 10), 20, dict_button[button][\"text_color\"])\n",
    "        \n",
    "        # If Mouse is over button and is clicked but mouse not release, Use this color of button (dict_button[button][\"clicked_color\"])\n",
    "        if dict_button[button][\"is_clicked\"] == True:\n",
    "            draw_clicked_button(button)\n",
    "    # If Mouse is not over button and is not clicked, Use this color of button (dict_button[button][\"base_color\"])\n",
    "    else:\n",
    "        draw_rectangle(dict_button[button][\"x\"], dict_button[button][\"y\"], dict_button[button][\"width\"], dict_button[button][\"height\"], dict_button[button][\"base_color\"])         # Draw Button\n",
    "        draw_text(dict_button[button][\"text\"].encode('utf-8'), int(dict_button[button][\"x\"] + dict_button[button][\"width\"] / 2 - dict_button[button][\"measure_text\"]),        # Draw Text\n",
    "                    int(dict_button[button][\"y\"] + dict_button[button][\"height\"] / 2 - 10), 20, dict_button[button][\"text_color\"])\n",
    "    \n",
    "    return False, \"\", False"
   ]
  },
  {
   "cell_type": "code",
   "execution_count": 127,
   "metadata": {},
   "outputs": [],
   "source": [
    "def main():\n",
    "\n",
    "    init()\n",
    "\n",
    "    # For Quit the main loop for exit programm\n",
    "    quit_ct: bool = False\n",
    "    affich_text: str = \"\"\n",
    "\n",
    "    while (not quit_ct and not window_should_close()):    # Detect window close on x corner click or escape key\n",
    "        # Drawing begin\n",
    "        begin_drawing()\n",
    "        \n",
    "        # Clear screen with LIGHTGRAY color for reset UI at each frame (Use this color for backgroung)\n",
    "        clear_background(LIGHTGRAY)     \n",
    "\n",
    "        # Draw title text\n",
    "        text_width = measure_text(WINDOW_TITLE.encode('utf-8'), 20)\n",
    "        x_position = int(get_screen_width() / 2 - text_width / 2)\n",
    "\n",
    "        # Draw all buttons\n",
    "        for button in dict_button:\n",
    "            quit_ct, text, action = draw_button(button)\n",
    "            if (action == True):\n",
    "                affich_text = text\n",
    "        \n",
    "        # Draw text zone\n",
    "        draw_rectangle(10, int(WINDOW_HEIGHT / 4 * 3), int(WINDOW_WIDTH - 20), int(WINDOW_HEIGHT / 4 - 10), WHITE)\n",
    "        draw_text(affich_text, 20, int(WINDOW_HEIGHT / 4 * 3) + 10, 20, BLACK)\n",
    "\n",
    "        # Reset mouse left button pressed when button is released\n",
    "        if is_mouse_button_released(MOUSE_BUTTON_LEFT):\n",
    "            for butt in dict_button:\n",
    "                # if button clicked set to True, Set it to False\n",
    "                if dict_button[butt][\"is_clicked\"] == True:\n",
    "                    dict_button[butt][\"is_clicked\"] = False\n",
    "\n",
    "        draw_text(WINDOW_TITLE.encode('utf-8'), x_position, 15, 20, DARKGRAY)\n",
    "\n",
    "        end_drawing()\n",
    "\n",
    "    # Close windows and openGL context properly at exit\n",
    "    close_window()"
   ]
  },
  {
   "cell_type": "markdown",
   "metadata": {},
   "source": [
    "Launch Program"
   ]
  },
  {
   "cell_type": "code",
   "execution_count": 128,
   "metadata": {},
   "outputs": [
    {
     "name": "stdout",
     "output_type": "stream",
     "text": [
      "emprunt button Hit Action 3\n",
      "evolution button Hit Action 9\n",
      "calculer button Hit Action 5\n",
      "lister button Hit Action 4\n",
      "emprunt button Hit Action 3\n",
      "add_user button Hit Action 2\n"
     ]
    }
   ],
   "source": [
    "main()"
   ]
  }
 ],
 "metadata": {
  "kernelspec": {
   "display_name": "Python 3",
   "language": "python",
   "name": "python3"
  },
  "language_info": {
   "codemirror_mode": {
    "name": "ipython",
    "version": 3
   },
   "file_extension": ".py",
   "mimetype": "text/x-python",
   "name": "python",
   "nbconvert_exporter": "python",
   "pygments_lexer": "ipython3",
   "version": "3.13.1"
  }
 },
 "nbformat": 4,
 "nbformat_minor": 2
}
