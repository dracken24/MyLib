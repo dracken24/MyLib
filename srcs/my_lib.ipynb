{
 "cells": [
  {
   "cell_type": "code",
   "execution_count": null,
   "metadata": {},
   "outputs": [],
   "source": [
    "# !pip install raylib==5.5.0.0\n",
    "import sys\n",
    "print(sys.executable)"
   ]
  },
  {
   "cell_type": "markdown",
   "metadata": {},
   "source": [
    "My Lib\n",
    "\n",
    "∗ Nom du projet.\n",
    "∗ Description du projet.\n",
    "∗ Votre nom et pr ́enom.\n",
    "∗ Votre groupe."
   ]
  },
  {
   "cell_type": "markdown",
   "metadata": {},
   "source": [
    "Imports"
   ]
  },
  {
   "cell_type": "code",
   "execution_count": 54,
   "metadata": {},
   "outputs": [],
   "source": [
    "from pyray import *"
   ]
  },
  {
   "cell_type": "markdown",
   "metadata": {},
   "source": [
    "Variables"
   ]
  },
  {
   "cell_type": "code",
   "execution_count": 55,
   "metadata": {},
   "outputs": [],
   "source": [
    "WINDOW_WIDTH: int = 400\n",
    "WINDOW_HEIGHT: int = 640\n",
    "WINDOW_TITLE: str = \"MyLib\"\n",
    "\n",
    "# RL = raylib\n",
    "FONT_COLOR = DARKGRAY\n",
    "\n",
    "dict_button = {\n",
    "    \"start\": {\n",
    "        \"text\": \"Start\",\n",
    "        \"x\": 100,\n",
    "        \"y\": 100,\n",
    "        \"width\": 200,\n",
    "        \"height\": 50,\n",
    "        \"measure_text\": 0,\n",
    "        \"color\": BLUE,\n",
    "        \"text_color\": WHITE,\n",
    "        \"is_clicked\": False,\n",
    "        \"action\": 1\n",
    "    },\n",
    "    \"stop\": {\n",
    "        \"text\": \"Stop\",\n",
    "        \"x\": 100,\n",
    "        \"y\": 200,\n",
    "        \"width\": 200,\n",
    "        \"height\": 50,\n",
    "        \"measure_text\": 0,\n",
    "        \"color\": ORANGE,\n",
    "        \"text_color\": WHITE,\n",
    "        \"is_clicked\": False,\n",
    "        \"action\": 2\n",
    "    }\n",
    "}"
   ]
  },
  {
   "cell_type": "markdown",
   "metadata": {},
   "source": [
    "Functions"
   ]
  },
  {
   "cell_type": "code",
   "execution_count": 56,
   "metadata": {},
   "outputs": [],
   "source": [
    "# init principal variables for the program\n",
    "def init():\n",
    "    # Window init\n",
    "    init_window(WINDOW_WIDTH, WINDOW_HEIGHT, WINDOW_TITLE.encode('utf-8'))\n",
    "    set_target_fps(60);  # FPS to 60\n",
    "\n",
    "    # Init each text wide for center text in button\n",
    "    for button in dict_button:\n",
    "        dict_button[button][\"measure_text\"] = int(measure_text(dict_button[button][\"text\"].encode('utf-8'), 20) / 2)\n"
   ]
  },
  {
   "cell_type": "code",
   "execution_count": 57,
   "metadata": {},
   "outputs": [],
   "source": [
    "def main():\n",
    "\n",
    "    init()\n",
    "\n",
    "    while (not window_should_close()):    # Detect window close on x corner click or escape key\n",
    "        # Drawing begin\n",
    "        begin_drawing()\n",
    "        \n",
    "        # Clear screen with LIGHTGRAY color for reset UI at each frame (Use this color for backgroung)\n",
    "        clear_background(LIGHTGRAY)     \n",
    "\n",
    "        # Draw title text\n",
    "        text_width = measure_text(WINDOW_TITLE.encode('utf-8'), 20)\n",
    "        x_position = int(get_screen_width() / 2 - text_width / 2)\n",
    "\n",
    "        # Draw all buttons\n",
    "        for button in dict_button:\n",
    "            draw_button(button)\n",
    "\n",
    "        # Reset mouse left button pressed when button is released\n",
    "        if is_mouse_button_released(MOUSE_BUTTON_LEFT):\n",
    "            for butt in dict_button:\n",
    "                # if button clicked set to True, Set it to False\n",
    "                if dict_button[butt][\"is_clicked\"] == True:\n",
    "                    dict_button[butt][\"is_clicked\"] = False\n",
    "\n",
    "        draw_text(WINDOW_TITLE.encode('utf-8'), x_position, 20, 20, DARKGRAY)\n",
    "\n",
    "        end_drawing()\n",
    "\n",
    "    # Close windows and openGL context properly at exit\n",
    "    close_window()"
   ]
  },
  {
   "cell_type": "code",
   "execution_count": 58,
   "metadata": {},
   "outputs": [],
   "source": [
    "# Draw a button with a text and return if the mouse is over the button\n",
    "def draw_button(button: str) -> bool:\n",
    "    # if mouser is over the button, Check collision with mouse and button\n",
    "    if (check_collision_point_rec(get_mouse_position(), (dict_button[button][\"x\"], dict_button[button][\"y\"],\n",
    "                                dict_button[button][\"width\"], dict_button[button][\"height\"]))):\n",
    "        # If the mouse is over the button, check if the left mouse button is pressed and choose the good action\n",
    "        if (is_mouse_button_pressed(MOUSE_BUTTON_LEFT)):\n",
    "            dict_button[button][\"is_clicked\"] = True  # Set True for the button clicked\n",
    "\n",
    "            # ***************************************Actions for Buttons*****************************************\n",
    "            if dict_button[button][\"action\"] == 1:\n",
    "                print(f\"{button} button Hit Action 1\")       # Action for the button start clicked\n",
    "            elif dict_button[button][\"action\"] == 2:\n",
    "                print(f\"{button} button Hit Action 2\")       # Action for the button stop clicked\n",
    "            # *************************************************************************************************** \n",
    "\n",
    "        # If Mouse is over button but not clicked, Use this color of button (DARKBLUE by default)\n",
    "        elif dict_button[button][\"is_clicked\"] == False:\n",
    "            draw_rectangle(dict_button[button][\"x\"], dict_button[button][\"y\"], dict_button[button][\"width\"], dict_button[button][\"height\"], DARKBLUE)                      # Draw Button\n",
    "            draw_text(dict_button[button][\"text\"].encode('utf-8'), int(dict_button[button][\"x\"] + dict_button[button][\"width\"] / 2 - dict_button[button][\"measure_text\"]),    # Draw Text\n",
    "                        int(dict_button[button][\"y\"] + dict_button[button][\"height\"] / 2 - 10), 20, dict_button[button][\"text_color\"])\n",
    "            return True\n",
    "        \n",
    "        # If Mouse is over button and is clicked but mouse not release, Use this color of button (DARKGREEN by default)\n",
    "        if dict_button[button][\"is_clicked\"] == True:\n",
    "            draw_rectangle(dict_button[button][\"x\"], dict_button[button][\"y\"], dict_button[button][\"width\"], dict_button[button][\"height\"], DARKGREEN)                     # Draw Button\n",
    "            draw_text(dict_button[button][\"text\"].encode('utf-8'), int(dict_button[button][\"x\"] + dict_button[button][\"width\"] / 2 - dict_button[button][\"measure_text\"]),    # Draw Text\n",
    "                        int(dict_button[button][\"y\"] + dict_button[button][\"height\"] / 2 - 10), 20, dict_button[button][\"text_color\"])\n",
    "            return True\n",
    "    # If Mouse is not over button and is not clicked, Use this color of button (Color enter by user at start)\n",
    "    else:\n",
    "        draw_rectangle(dict_button[button][\"x\"], dict_button[button][\"y\"], dict_button[button][\"width\"], dict_button[button][\"height\"], dict_button[button][\"color\"])         # Draw Button\n",
    "        draw_text(dict_button[button][\"text\"].encode('utf-8'), int(dict_button[button][\"x\"] + dict_button[button][\"width\"] / 2 - dict_button[button][\"measure_text\"]),        # Draw Text\n",
    "                    int(dict_button[button][\"y\"] + dict_button[button][\"height\"] / 2 - 10), 20, dict_button[button][\"text_color\"])\n",
    "        return False"
   ]
  },
  {
   "cell_type": "markdown",
   "metadata": {},
   "source": [
    "Launch Programme"
   ]
  },
  {
   "cell_type": "code",
   "execution_count": null,
   "metadata": {},
   "outputs": [],
   "source": [
    "main()"
   ]
  },
  {
   "cell_type": "markdown",
   "metadata": {},
   "source": [
    "# Installer Raylib dans l'environement Jupyter !\n",
    "\n",
    "1. Vérifier ou se situe votre environnement Python:\n",
    "\n",
    "# Dans une cellule Jupyter, exécutez :\n",
    "```\n",
    "import sys\n",
    "print(sys.executable)\n",
    "```\n",
    "Notez le chemin retourné, il sera nécessaire pour l'étape suivante.\n",
    "\n",
    "2. Installer Raylib:\n",
    "Dans PowerShell ou le terminal, utilisez le chemin Python obtenu précédemment:\n",
    "# Remplacez [chemin_python] par votre chemin\n",
    "```\n",
    "[chemin_python] -m pip install raylib\n",
    "```\n",
    "\n",
    "Par exemple :\n",
    "```\n",
    "c:\\Users\\[utilisateur]\\AppData\\Local\\Programs\\Python\\Python313\\python.exe -m pip install raylib\n",
    "```\n",
    "\n",
    "[Raylib documentation](https://www.raylib.com/cheatsheet/cheatsheet.html)\n",
    "[Raylib Python Documentation](https://electronstudio.github.io/raylib-python-cffi/)"
   ]
  }
 ],
 "metadata": {
  "kernelspec": {
   "display_name": "Python 3",
   "language": "python",
   "name": "python3"
  },
  "language_info": {
   "codemirror_mode": {
    "name": "ipython",
    "version": 3
   },
   "file_extension": ".py",
   "mimetype": "text/x-python",
   "name": "python",
   "nbconvert_exporter": "python",
   "pygments_lexer": "ipython3",
   "version": "3.13.1"
  }
 },
 "nbformat": 4,
 "nbformat_minor": 2
}
