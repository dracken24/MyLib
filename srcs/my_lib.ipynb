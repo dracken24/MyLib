{
 "cells": [
  {
   "cell_type": "markdown",
   "metadata": {},
   "source": [
    "# My Lib\n",
    "\n",
    "∗ Nom du projet.\n",
    "∗ Description du projet.\n",
    "∗ Votre nom et pr ́enom.\n",
    "∗ Votre groupe."
   ]
  },
  {
   "cell_type": "markdown",
   "metadata": {},
   "source": [
    "# README\n",
    "\n",
    "# Installer Raylib dans l'environement Jupyter !\n",
    "\n",
    "1. Vérifier ou se situe votre environnement Python:\n",
    "\n",
    "# Dans une cellule Jupyter, exécutez :\n",
    "```\n",
    "import sys\n",
    "print(sys.executable)\n",
    "```\n",
    "Notez le chemin retourné, il sera nécessaire pour l'étape suivante.\n",
    "\n",
    "2. Installer Raylib:\n",
    "Dans PowerShell ou le terminal, utilisez le chemin Python obtenu précédemment:\n",
    "# Remplacez [chemin_python] par votre chemin\n",
    "```\n",
    "[chemin_python] -m pip install raylib\n",
    "```\n",
    "\n",
    "Par exemple :\n",
    "```\n",
    "c:\\Users\\[utilisateur]\\AppData\\Local\\Programs\\Python\\Python313\\python.exe -m pip install raylib\n",
    "```\n",
    "\n",
    "[Raylib documentation](https://www.raylib.com/cheatsheet/cheatsheet.html)\n",
    "[Raylib Python Documentation](https://electronstudio.github.io/raylib-python-cffi/)"
   ]
  },
  {
   "cell_type": "code",
   "execution_count": 52,
   "metadata": {},
   "outputs": [
    {
     "name": "stdout",
     "output_type": "stream",
     "text": [
      "c:\\Users\\drack\\AppData\\Local\\Programs\\Python\\Python313\\python.exe\n"
     ]
    }
   ],
   "source": [
    "# Vérifier ou se situe votre environnement Python:\n",
    "import sys\n",
    "print(sys.executable)"
   ]
  },
  {
   "cell_type": "markdown",
   "metadata": {},
   "source": [
    "# Prpgramme Principale"
   ]
  },
  {
   "cell_type": "markdown",
   "metadata": {},
   "source": [
    "Imports"
   ]
  },
  {
   "cell_type": "code",
   "execution_count": 53,
   "metadata": {},
   "outputs": [],
   "source": [
    "from pyray import * # Import for Raylib"
   ]
  },
  {
   "cell_type": "markdown",
   "metadata": {},
   "source": [
    "Variables"
   ]
  },
  {
   "cell_type": "code",
   "execution_count": 54,
   "metadata": {},
   "outputs": [],
   "source": [
    "WINDOW_WIDTH: int = 700\n",
    "WINDOW_HEIGHT: int = 600\n",
    "WINDOW_TITLE: str = \"MyLib\"\n",
    "\n",
    "TEXT_OFFSET = 20\n",
    "\n",
    "# RL = raylib\n",
    "FONT_COLOR = DARKGRAY\n",
    "BUTTON_HEIGHT = int(30 + 5)\n",
    "\n",
    "# Putt all buttons in a dictionary\n",
    "dict_button = {\n",
    "\t\"add_book\": {  # Name for the button in dico (Key)\n",
    "\t\t\"text\": \"Ajouter ou supprimer un livre dans la bibliotheque\",\t# Text visible on button\n",
    "\t\t\"x\": 10,                            # position x\n",
    "\t\t\"y\": BUTTON_HEIGHT + 10,            # position y\n",
    "\t\t\"width\": int(WINDOW_WIDTH - 20),    # Button width\n",
    "\t\t\"height\": int(BUTTON_HEIGHT - 5),   # Button height\n",
    "\t\t\"measure_text\": 0,                  # For center text in button\n",
    "\t\t\"base_color\": BLUE,                 # Base button color\n",
    "\t\t\"hover_color\": DARKBLUE,            # mouse hover button color\n",
    "\t\t\"clicked_color\": DARKGREEN,         # Clicked button color\n",
    "\t\t\"text_color\": WHITE,                # Color for text\n",
    "\t\t\"is_clicked\": False,                # For launch action once until mouse button release\n",
    "\t\t\"action\": 1                         # For launch good action in draw_button()\n",
    "\t},\n",
    "\t\"add_user\": {\n",
    "\t\t\"text\": \"Ajouter ou supprimer un utilisateur\",\n",
    "\t\t\"x\": 10,\n",
    "\t\t\"y\": int(BUTTON_HEIGHT * 2) + 10,\n",
    "\t\t\"width\": int(WINDOW_WIDTH - 20),\n",
    "\t\t\"height\": int(BUTTON_HEIGHT - 5),\n",
    "\t\t\"measure_text\": 0,\n",
    "\t\t\"base_color\": BLUE,\n",
    "\t\t\"hover_color\": DARKBLUE,\n",
    "\t\t\"clicked_color\": DARKGREEN,\n",
    "\t\t\"text_color\": WHITE,\n",
    "\t\t\"is_clicked\": False,\n",
    "\t\t\"action\": 2\n",
    "\t},\n",
    "\t\"emprunt\": {\n",
    "\t\t\"text\": \"Enregistrer un emprunt ou un retour\",\n",
    "\t\t\"x\": 10,\n",
    "\t\t\"y\": int(BUTTON_HEIGHT * 3) + 10,\n",
    "\t\t\"width\": int(WINDOW_WIDTH - 20),\n",
    "\t\t\"height\": int(BUTTON_HEIGHT - 5),\n",
    "\t\t\"measure_text\": 0,\n",
    "\t\t\"base_color\": BLUE,\n",
    "\t\t\"hover_color\": DARKBLUE,\n",
    "\t\t\"clicked_color\": DARKGREEN,\n",
    "\t\t\"text_color\": WHITE,\n",
    "\t\t\"is_clicked\": False,\n",
    "\t\t\"action\": 3\n",
    "\t},\n",
    "\t\"lister\": {\n",
    "\t\t\"text\": \"Lister les livres les plus empruntes\",\n",
    "\t\t\"x\": 10,\n",
    "\t\t\"y\": int(BUTTON_HEIGHT * 4) + 10,\n",
    "\t\t\"width\": int(WINDOW_WIDTH - 20),\n",
    "\t\t\"height\": int(BUTTON_HEIGHT - 5),\n",
    "\t\t\"measure_text\": 0,\n",
    "\t\t\"base_color\": BLUE,\n",
    "\t\t\"hover_color\": DARKBLUE,\n",
    "\t\t\"clicked_color\": DARKGREEN,\n",
    "\t\t\"text_color\": WHITE,\n",
    "\t\t\"is_clicked\": False,\n",
    "\t\t\"action\": 4\n",
    "\t},\n",
    "\t\"calculer\": {\n",
    "\t\t\"text\": \"Calculer la duree moyenne des emprunts par genre\",\n",
    "\t\t\"x\": 10,\n",
    "\t\t\"y\": int(BUTTON_HEIGHT * 5) + 10,\n",
    "\t\t\"width\": int(WINDOW_WIDTH - 20),\n",
    "\t\t\"height\": int(BUTTON_HEIGHT - 5),\n",
    "\t\t\"measure_text\": 0,\n",
    "\t\t\"base_color\": BLUE,\n",
    "\t\t\"hover_color\": DARKBLUE,\n",
    "\t\t\"clicked_color\": DARKGREEN,\n",
    "\t\t\"text_color\": WHITE,\n",
    "\t\t\"is_clicked\": False,\n",
    "\t\t\"action\": 5\n",
    "\t},\n",
    "\t\"identifier\": {\n",
    "\t\t\"text\": \"Identifier les utilisateurs les plus actifs\",\n",
    "\t\t\"x\": 10,\n",
    "\t\t\"y\": int(BUTTON_HEIGHT * 6) + 10,\n",
    "\t\t\"width\": int(WINDOW_WIDTH - 20),\n",
    "\t\t\"height\": int(BUTTON_HEIGHT - 5),\n",
    "\t\t\"measure_text\": 0,\n",
    "\t\t\"base_color\": BLUE,\n",
    "\t\t\"hover_color\": DARKBLUE,\n",
    "\t\t\"clicked_color\": DARKGREEN,\n",
    "\t\t\"text_color\": WHITE,\n",
    "\t\t\"is_clicked\": False,\n",
    "\t\t\"action\": 6\n",
    "\t},\n",
    "\t\"status\": {\n",
    "\t\t\"text\": \"Afficher le statut de la bibliotheque sous forme de statistiques\",\n",
    "\t\t\"x\": 10,\n",
    "\t\t\"y\": int(BUTTON_HEIGHT * 7) + 10,\n",
    "\t\t\"width\": int(WINDOW_WIDTH - 20),\n",
    "\t\t\"height\": int(BUTTON_HEIGHT - 5),\n",
    "\t\t\"measure_text\": 0,\n",
    "\t\t\"base_color\": BLUE,\n",
    "\t\t\"hover_color\": DARKBLUE,\n",
    "\t\t\"clicked_color\": DARKGREEN,\n",
    "\t\t\"text_color\": WHITE,\n",
    "\t\t\"is_clicked\": False,\n",
    "\t\t\"action\": 7\n",
    "\t},\n",
    "\t\"diagramme\": {\n",
    "\t\t\"text\": \"Visualisation: Diagramme circulaire des emprunts par genre\",\n",
    "\t\t\"x\": 10,\n",
    "\t\t\"y\": int(BUTTON_HEIGHT * 8) + 10,\n",
    "\t\t\"width\": int(WINDOW_WIDTH - 20),\n",
    "\t\t\"height\": int(BUTTON_HEIGHT - 5),\n",
    "\t\t\"measure_text\": 0,\n",
    "\t\t\"base_color\": BLUE,\n",
    "\t\t\"hover_color\": DARKBLUE,\n",
    "\t\t\"clicked_color\": DARKGREEN,\n",
    "\t\t\"text_color\": WHITE,\n",
    "\t\t\"is_clicked\": False,\n",
    "\t\t\"action\": 8\n",
    "\t},\n",
    "\t\"evolution\": {\n",
    "\t\t\"text\": \"Visualisation: Evolution mensuelle des emprunt\",\n",
    "\t\t\"x\": 10,\n",
    "\t\t\"y\": int(BUTTON_HEIGHT * 9) + 10,\n",
    "\t\t\"width\": int(WINDOW_WIDTH - 20),\n",
    "\t\t\"height\": int(BUTTON_HEIGHT - 5),\n",
    "\t\t\"measure_text\": 0,\n",
    "\t\t\"base_color\": BLUE,\n",
    "\t\t\"hover_color\": DARKBLUE,\n",
    "\t\t\"clicked_color\": DARKGREEN,\n",
    "\t\t\"text_color\": WHITE,\n",
    "\t\t\"is_clicked\": False,\n",
    "\t\t\"action\": 9\n",
    "\t},\n",
    "\t\"quitter\": {\n",
    "\t\t\"text\": \"Quitter\",\n",
    "\t\t\"x\": 10,\n",
    "\t\t\"y\": int(BUTTON_HEIGHT * 10) + 20,\n",
    "\t\t\"width\": int(WINDOW_WIDTH - 20),\n",
    "\t\t\"height\": int(BUTTON_HEIGHT - 5),\n",
    "\t\t\"measure_text\": 0,\n",
    "\t\t\"base_color\": ORANGE,\n",
    "\t\t\"hover_color\": MAROON,\n",
    "\t\t\"clicked_color\": RED,\n",
    "\t\t\"text_color\": WHITE,\n",
    "\t\t\"is_clicked\": False,\n",
    "\t\t\"action\": 10\n",
    "\t}\n",
    "}"
   ]
  },
  {
   "cell_type": "markdown",
   "metadata": {},
   "source": [
    "Functions"
   ]
  },
  {
   "cell_type": "code",
   "execution_count": 55,
   "metadata": {},
   "outputs": [],
   "source": [
    "# init principal variables for the program\n",
    "def init():\n",
    "    # Window init\n",
    "    init_window(WINDOW_WIDTH, WINDOW_HEIGHT, WINDOW_TITLE.encode('utf-8'))\n",
    "    set_target_fps(60);  # FPS to 60\n",
    "\n",
    "    # Init each text wide in pixel for center text in button\n",
    "    for button in dict_button:\n",
    "        dict_button[button][\"measure_text\"] = int(measure_text(dict_button[button][\"text\"].encode('utf-8'), 20) / 2)\n"
   ]
  },
  {
   "cell_type": "markdown",
   "metadata": {},
   "source": [
    "Function for all Buttons"
   ]
  },
  {
   "cell_type": "code",
   "execution_count": 56,
   "metadata": {},
   "outputs": [],
   "source": [
    "# Add or remove a book from the library\n",
    "def add_remove_books(button: str):\n",
    "    print(f\"{button} button Hit Action 1\")"
   ]
  },
  {
   "cell_type": "code",
   "execution_count": 57,
   "metadata": {},
   "outputs": [],
   "source": [
    "# Add or delete a user\n",
    "def add_remove_users(button: str):\n",
    "    print(f\"{button} button Hit Action 2\")"
   ]
  },
  {
   "cell_type": "code",
   "execution_count": 58,
   "metadata": {},
   "outputs": [],
   "source": [
    "# Record a loan or return\n",
    "def emprunt_retour_books(button: str):\n",
    "    print(f\"{button} button Hit Action 3\")"
   ]
  },
  {
   "cell_type": "code",
   "execution_count": 59,
   "metadata": {},
   "outputs": [],
   "source": [
    "# List the most borrowed books\n",
    "def list_books(button: str):\n",
    "    print(f\"{button} button Hit Action 4\")"
   ]
  },
  {
   "cell_type": "code",
   "execution_count": 60,
   "metadata": {},
   "outputs": [],
   "source": [
    "# Calculate the average duration of loans by type\n",
    "def calcul_emprunt_books(button: str):\n",
    "    print(f\"{button} button Hit Action 5\")"
   ]
  },
  {
   "cell_type": "code",
   "execution_count": 61,
   "metadata": {},
   "outputs": [],
   "source": [
    "# Identify the most active users\n",
    "def ident_actif_users(button: str):\n",
    "    print(f\"{button} button Hit Action 6\")"
   ]
  },
  {
   "cell_type": "code",
   "execution_count": 62,
   "metadata": {},
   "outputs": [],
   "source": [
    "# Show library status as statistics\n",
    "def status(button: str):\n",
    "    print(f\"{button} button Hit Action 7\")"
   ]
  },
  {
   "cell_type": "code",
   "execution_count": 63,
   "metadata": {},
   "outputs": [],
   "source": [
    "# Visualization: Pie chart of borrowings by genre\n",
    "def diagram(button: str):\n",
    "    print(f\"{button} button Hit Action 8\")"
   ]
  },
  {
   "cell_type": "code",
   "execution_count": 64,
   "metadata": {},
   "outputs": [],
   "source": [
    "# Visualization: Monthly evolution of borrowing\n",
    "def monthly_evolution(button: str):\n",
    "    print(f\"{button} button Hit Action 9\")"
   ]
  },
  {
   "cell_type": "markdown",
   "metadata": {},
   "source": [
    "Buttons Functions"
   ]
  },
  {
   "cell_type": "code",
   "execution_count": 65,
   "metadata": {},
   "outputs": [],
   "source": [
    "BOARDER_THICK = 2\n",
    "BORDER_COLOR = DARKGRAY\n",
    "\n",
    "def draw_clicked_button(button: str, rect: Rectangle):\n",
    "    draw_rectangle_rec(rect, dict_button[button][\"clicked_color\"])                     # Draw Button\n",
    "    draw_text(dict_button[button][\"text\"].encode('utf-8'), int(rect.x + rect.width / 2 - dict_button[button][\"measure_text\"]),    # Draw Text\n",
    "                int(rect.y + rect.height / 2 - 10), 20, dict_button[button][\"text_color\"])\n",
    "    \n",
    "    # Draw a button border\n",
    "    draw_rectangle_lines_ex(rect, BOARDER_THICK, BORDER_COLOR)\n",
    "\n",
    "# Draw a button with a text and return if the mouse is over the button (Return True for close program)\n",
    "def draw_button(button: str) -> tuple:\n",
    "    # Mount position and size button in a rectangle for easy use\n",
    "    rect = Rectangle(dict_button[button][\"x\"], dict_button[button][\"y\"], dict_button[button][\"width\"], dict_button[button][\"height\"])\n",
    "\n",
    "    # if mouser is over the button, Check collision with mouse and button\n",
    "    if (check_collision_point_rec(get_mouse_position(), (rect.x, rect.y, rect.width, rect.height))):\n",
    "        # If the mouse is over the button, check if the left mouse button is pressed and choose the good action\n",
    "        if (is_mouse_button_pressed(MOUSE_BUTTON_LEFT)):\n",
    "            dict_button[button][\"is_clicked\"] = True  # Set True for the button clicked\n",
    "\n",
    "            # ***************************************Actions for Buttons*****************************************\n",
    "            if dict_button[button][\"action\"] == 1:\n",
    "                add_remove_books(button)            # Action for the button add_remove_books clicked\n",
    "                draw_clicked_button(button, rect)\n",
    "                return False, dict_button[button][\"text\"], True\n",
    "            elif dict_button[button][\"action\"] == 2:\n",
    "                add_remove_users(button)            # Action for the button add_remove_users clicked\n",
    "                draw_clicked_button(button, rect)\n",
    "                return False, dict_button[button][\"text\"], True\n",
    "            elif dict_button[button][\"action\"] == 3:\n",
    "                emprunt_retour_books(button)        # Action for the button emprunt_retour_books clicked\n",
    "                draw_clicked_button(button, rect)\n",
    "                return False, dict_button[button][\"text\"], True\n",
    "            elif dict_button[button][\"action\"] == 4:\n",
    "                list_books(button)                  # Action for the button list_books clicked\n",
    "                draw_clicked_button(button, rect)\n",
    "                return False, dict_button[button][\"text\"], True\n",
    "            elif dict_button[button][\"action\"] == 5:\n",
    "                calcul_emprunt_books(button)        # Action for the button calcul_emprunt_books clicked\n",
    "                draw_clicked_button(button, rect)\n",
    "                return False, dict_button[button][\"text\"], True\n",
    "            elif dict_button[button][\"action\"] == 6:\n",
    "                ident_actif_users(button)           # Action for the button ident_actif_users clicked\n",
    "                draw_clicked_button(button, rect)\n",
    "                return False, dict_button[button][\"text\"], True\n",
    "            elif dict_button[button][\"action\"] == 7:\n",
    "                status(button)                      # Action for the button status clicked\n",
    "                draw_clicked_button(button, rect)\n",
    "                return False, dict_button[button][\"text\"], True\n",
    "            elif dict_button[button][\"action\"] == 8:\n",
    "                diagram(button)                     # Action for the button diagram clicked\n",
    "                draw_clicked_button(button, rect)\n",
    "                return False, dict_button[button][\"text\"], True\n",
    "            elif dict_button[button][\"action\"] == 9:\n",
    "                monthly_evolution(button)           # Action for the button monthly_evolution clicked\n",
    "                draw_clicked_button(button, rect)\n",
    "                return False, dict_button[button][\"text\"], True\n",
    "            elif dict_button[button][\"action\"] == 10:\n",
    "                print(f\"{button} button Hit Action 10\") # EXIT\n",
    "                return True, dict_button[button][\"text\"], True\n",
    "            # *************************************************************************************************** \n",
    "\n",
    "        # If Mouse is over button but not clicked, Use this color of button (dict_button[button][\"hover_color\"])\n",
    "        elif dict_button[button][\"is_clicked\"] == False:\n",
    "            draw_rectangle_rec(rect, dict_button[button][\"hover_color\"])                      # Draw Button\n",
    "            draw_text(dict_button[button][\"text\"].encode('utf-8'), int(rect.x + rect.width / 2 - dict_button[button][\"measure_text\"]),    # Draw Text\n",
    "                        int(rect.y + rect.height / 2 - 10), 20, dict_button[button][\"text_color\"])\n",
    "        \n",
    "        # If Mouse is over button and is clicked but mouse not release, Use this color of button (dict_button[button][\"clicked_color\"])\n",
    "        if dict_button[button][\"is_clicked\"] == True:\n",
    "            draw_clicked_button(button, rect)\n",
    "    # If Mouse is not over button and is not clicked, Use this color of button (dict_button[button][\"base_color\"])\n",
    "    else:\n",
    "        draw_rectangle_rec(rect, dict_button[button][\"base_color\"])         # Draw Button\n",
    "        draw_text(dict_button[button][\"text\"].encode('utf-8'), int(rect.x + rect.width / 2 - dict_button[button][\"measure_text\"]),        # Draw Text\n",
    "                    int(rect.y + rect.height / 2 - 10), 20, dict_button[button][\"text_color\"])\n",
    "        \n",
    "    # Draw a button border\n",
    "    draw_rectangle_lines_ex(rect, BOARDER_THICK, BORDER_COLOR)\n",
    "    return False, \"\", False"
   ]
  },
  {
   "cell_type": "code",
   "execution_count": 66,
   "metadata": {},
   "outputs": [],
   "source": [
    "\"\"\"Recursive function for draw and scroll text inside a box (rectangle)\n",
    "    Args:\n",
    "        box (Rectangle): Rectangle for draw text\n",
    "        text (str): Text to draw\n",
    "        line_position (int): Position of the line in the box\n",
    "        scroll_offset (int): Scroll offset for base on mouse wheel\n",
    "        line_ct (int): Text is cut in x line_ct to fix in box whide\n",
    "    \n",
    "    Returns:\n",
    "        int: Line count\n",
    "\"\"\"\n",
    "def adjust_text_in_box_and_draw_result(box: Rectangle, text: str, line_position: int = 0,\n",
    "                                       scroll_offset: int = 0, line_ct: int = 0) -> int:\n",
    "    # Function for draw in a specific zone. (like writing text inside a box) \n",
    "    begin_scissor_mode(int(box.x), int(box.y), int(box.width), int(box.height))\n",
    "    \n",
    "    text_width: int = measure_text(text.encode('utf-8'), 20)    # Check if text is more whide than the box\n",
    "    line_height: int = 22                                       # Space for offset each line in pixel\n",
    "    writable_length: int = int(box.width - 20)                  # Writable whide space in the box (20 pixels offset)\n",
    "\n",
    "    adjusted_y = int(box.y + line_position + scroll_offset)     # Adjust each line position in y\n",
    "\n",
    "    # if the text is to whide for the box\n",
    "    if text_width > writable_length:\n",
    "        line = text[:int(writable_length / 10.2)]   # Take a line in the text base on writable_length\n",
    "        text = text[int(writable_length / 10.2):]   # Erase that line from the text\n",
    "        \n",
    "        draw_text(line, int(box.x + 10), adjusted_y, 20, BLACK) # Draw the line in the box\n",
    "        line_ct += 1 # Add one to the line counter\n",
    "        # Call recursive function with the text less the cut line\n",
    "        line_ct = adjust_text_in_box_and_draw_result(box, text, line_height + line_position, scroll_offset, line_ct)\n",
    "    # If text fit in the box, just write it\n",
    "    else:\n",
    "        draw_text(text, int(box.x + 10), adjusted_y, 20, BLACK)\n",
    "\n",
    "    # End scissor mode\n",
    "    end_scissor_mode()\n",
    "\n",
    "    # Return the number of line\n",
    "    return line_ct"
   ]
  },
  {
   "cell_type": "code",
   "execution_count": 67,
   "metadata": {},
   "outputs": [],
   "source": [
    "\"\"\" Main function for run the programm \"\"\"\n",
    "# lorem is to test the text box\n",
    "lorem: str = \"Lorem ipsum dolor sit amet, consectetur adipiscing elit. Sed do eiusmod tempor incididunt ut labore et dolore magna aliqua. Ut enim ad minim veniam, quis nostrud exercitation ullamco laboris nisi ut aliquip ex ea commodo consequat. Duis aute irure dolor in reprehenderit in voluptate velit esse cillum dolore eu fugiat nulla pariatur. Excepteur sint occaecat cupidatat non proident, sunt in culpa qui officia deserunt mollit anim id est laborum.. Sed do eiusmod tempor incididunt ut labore et dolore magna aliqua. Ut enim ad minim veniam, quis nostrud exercitation ullamco laboris nisi ut aliquip ex ea commodo consequat. Duis aute irure dolor in reprehenderit in voluptate velit esse cillum dolore eu fugiat nulla pariatur. Excepteur sint occaecat cupidatat non proident, sunt in culpa qui officia deserunt mollit anim id est laborum. EXIT.\"\n",
    "def main():\n",
    "\n",
    "    init()\n",
    "\n",
    "    # For Quit the main loop for exit programm\n",
    "    quit_ct: bool = False       # Couinter for the exit button\n",
    "    affich_text: str = lorem    # Text visible on the textBox\n",
    "    scroll_offset: int = 0      # The offset for the text in the box\n",
    "    mouse_wheel_ct = 0          # Mouse wheel counter\n",
    "    line_ct: int = 0            # Line counter\n",
    "\n",
    "    while (not quit_ct and not window_should_close()):    # Detect window close on x corner click, escape key or Quit button\n",
    "        # Get the wheel movement\n",
    "        wheel_move = get_mouse_wheel_move()\n",
    "        mouse_wheel_ct += wheel_move\n",
    "\n",
    "        scroll_offset += int(wheel_move * TEXT_OFFSET)  # Ajuste with TEXT_OFFSET in pixel\n",
    "        # Prevents text from scrolling higher than the 1st line\n",
    "        if (scroll_offset > 0):\n",
    "            scroll_offset = 0\n",
    "\n",
    "        # Drawing begin\n",
    "        begin_drawing()\n",
    "        \n",
    "        # Clear screen with LIGHTGRAY color for reset UI at each frame (Use this color for backgroung)\n",
    "        clear_background(LIGHTGRAY)     \n",
    "\n",
    "        # Draw title text\n",
    "        text_width = measure_text(WINDOW_TITLE.encode('utf-8'), 20) # For center the text in window\n",
    "        x_position = int(get_screen_width() / 2 - text_width / 2)\n",
    "\n",
    "\n",
    "        # Draw all buttons\n",
    "        for button in dict_button:\n",
    "            quit_ct, text, action = draw_button(button)\n",
    "            if (action == True and text != \"Quitter\"):\n",
    "                affich_text = text\n",
    "        \n",
    "        # Draw text zone\n",
    "        text_box: Rectangle = Rectangle(10, int(WINDOW_HEIGHT / 4 * 3), int(WINDOW_WIDTH - 20), int(WINDOW_HEIGHT / 4 - 10)) # Make rectangle from values\n",
    "        draw_rectangle_rec(text_box, WHITE)\n",
    "        \n",
    "        # Passage explicite du scroll_offset\n",
    "        line_ct = adjust_text_in_box_and_draw_result(text_box, affich_text, 0, scroll_offset, line_ct)\n",
    "\n",
    "        # For stop scrolling down text\n",
    "        if (scroll_offset * -1 / TEXT_OFFSET > line_ct): # * -1 for compare scroll_offset (Is negative) with the number of line (ex: scroll_offset = -13 is = to line_ct = 13)\n",
    "            scroll_offset = line_ct * -1 * TEXT_OFFSET\n",
    "\n",
    "        # Draw the title\n",
    "        draw_text(WINDOW_TITLE.encode('utf-8'), x_position, 15, 20, DARKGRAY)\n",
    "\n",
    "        end_drawing()\n",
    "\n",
    "        line_ct = 0\n",
    "\n",
    "    # Close windows and openGL context properly at exit\n",
    "    close_window()"
   ]
  },
  {
   "cell_type": "markdown",
   "metadata": {},
   "source": [
    "Launch Program"
   ]
  },
  {
   "cell_type": "code",
   "execution_count": 68,
   "metadata": {},
   "outputs": [
    {
     "name": "stdout",
     "output_type": "stream",
     "text": [
      "diagramme button Hit Action 8\n",
      "quitter button Hit Action 10\n"
     ]
    }
   ],
   "source": [
    "main()"
   ]
  }
 ],
 "metadata": {
  "kernelspec": {
   "display_name": "Python 3",
   "language": "python",
   "name": "python3"
  },
  "language_info": {
   "codemirror_mode": {
    "name": "ipython",
    "version": 3
   },
   "file_extension": ".py",
   "mimetype": "text/x-python",
   "name": "python",
   "nbconvert_exporter": "python",
   "pygments_lexer": "ipython3",
   "version": "3.13.1"
  }
 },
 "nbformat": 4,
 "nbformat_minor": 2
}
